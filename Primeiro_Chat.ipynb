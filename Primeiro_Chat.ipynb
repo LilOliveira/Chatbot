{
  "cells": [
    {
      "cell_type": "markdown",
      "metadata": {
        "id": "view-in-github",
        "colab_type": "text"
      },
      "source": [
        "<a href=\"https://colab.research.google.com/github/LilOliveira/Chatbot/blob/main/Primeiro_Chat.ipynb\" target=\"_parent\"><img src=\"https://colab.research.google.com/assets/colab-badge.svg\" alt=\"Open In Colab\"/></a>"
      ]
    },
    {
      "cell_type": "code",
      "execution_count": 1,
      "metadata": {
        "id": "PNXdUkt-jvge"
      },
      "outputs": [],
      "source": [
        "!pip install -q -U google-generativeai"
      ]
    },
    {
      "cell_type": "code",
      "execution_count": 2,
      "metadata": {
        "id": "r_8Rk8iWl11o"
      },
      "outputs": [],
      "source": [
        "import google.generativeai as PlanMaster"
      ]
    },
    {
      "cell_type": "code",
      "execution_count": 3,
      "metadata": {
        "id": "ouS5lsxWmBuH"
      },
      "outputs": [],
      "source": [
        "from google.colab import userdata\n",
        "\n",
        "GOOGLE_GEMINI_API_KEY =  userdata.get (\"PlanMaster\")\n",
        "\n",
        "PlanMaster.configure(api_key=GOOGLE_GEMINI_API_KEY)"
      ]
    },
    {
      "cell_type": "code",
      "execution_count": 4,
      "metadata": {
        "colab": {
          "base_uri": "https://localhost:8080/",
          "height": 312
        },
        "id": "OkhKTOfgujOg",
        "outputId": "8fe41286-5eeb-4a4b-bf72-c7be3592fa31"
      },
      "outputs": [
        {
          "output_type": "stream",
          "name": "stdout",
          "text": [
            "models/gemini-1.0-pro-latest\n",
            "models/gemini-1.0-pro\n",
            "models/gemini-pro\n",
            "models/gemini-1.0-pro-001\n",
            "models/gemini-1.0-pro-vision-latest\n",
            "models/gemini-pro-vision\n",
            "models/gemini-1.5-pro-latest\n",
            "models/gemini-1.5-pro-001\n",
            "models/gemini-1.5-pro\n",
            "models/gemini-1.5-pro-exp-0801\n",
            "models/gemini-1.5-pro-exp-0827\n",
            "models/gemini-1.5-flash-latest\n",
            "models/gemini-1.5-flash-001\n",
            "models/gemini-1.5-flash-001-tuning\n",
            "models/gemini-1.5-flash\n",
            "models/gemini-1.5-flash-exp-0827\n",
            "models/gemini-1.5-flash-8b-exp-0827\n"
          ]
        }
      ],
      "source": [
        "for m in PlanMaster.list_models():\n",
        "  if 'generateContent'in m.supported_generation_methods:\n",
        "    print(m.name)\n"
      ]
    },
    {
      "cell_type": "code",
      "source": [
        "model = PlanMaster.GenerativeModel(\"gemini-1.5-pro-latest\")"
      ],
      "metadata": {
        "id": "5elAd5Bdjkv8"
      },
      "execution_count": 6,
      "outputs": []
    },
    {
      "cell_type": "code",
      "execution_count": 7,
      "metadata": {
        "colab": {
          "base_uri": "https://localhost:8080/",
          "height": 1000
        },
        "id": "5nefa03LwpcY",
        "outputId": "7867e2b1-a6af-4139-f219-a98ff9360ba7"
      },
      "outputs": [
        {
          "output_type": "stream",
          "name": "stdout",
          "text": [
            "Esperando prompt:Eu construi esse ambiente, para que eu utilize como meu chatgpt proprio. Preciso criar um ambiente para você, como posso fazer isso?\n",
            "É ótimo que você esteja explorando e construindo seu próprio ambiente de chatbot! É uma área fascinante e cheia de possibilidades. \n",
            "\n",
            "Para te ajudar a criar um ambiente para mim, preciso entender melhor o que você já construiu e o que você espera alcançar. \n",
            "\n",
            "**Para me guiar, você poderia me dizer:**\n",
            "\n",
            "* **Que tipo de ambiente você construiu?** \n",
            "    * É um ambiente de desenvolvimento local na sua máquina? \n",
            "    * Você está usando alguma plataforma online específica?\n",
            "    * Que linguagem de programação você está usando? (Python, JavaScript, etc.)\n",
            "* **Quais ferramentas você está utilizando no seu ambiente?**\n",
            "    * Você está usando alguma biblioteca específica para processamento de linguagem natural, como Transformers, SpaCy ou NLTK?\n",
            "    * Você tem algum framework de chatbot específico em mente, como Rasa, Dialogflow ou Botpress?\n",
            "* **Qual o objetivo do seu chatbot?** \n",
            "    * Que tipo de tarefas você quer que ele realize? \n",
            "    * Ele será focado em conversação, responder perguntas específicas, automatizar tarefas ou algo completamente diferente?\n",
            "* **Onde estão seus dados?** \n",
            "    * Você já possui um conjunto de dados para treinar o modelo de linguagem? \n",
            "    * Se sim, qual o formato e tamanho dos seus dados?\n",
            "* **Como você imagina que eu interagirei com seu ambiente?** \n",
            "    * Você quer me integrar diretamente ao seu código? \n",
            "    *  Você prefere usar uma API para se comunicar comigo?\n",
            "\n",
            "Com mais informações sobre seu projeto, posso te ajudar de forma mais eficiente! Posso te indicar ferramentas, bibliotecas, recursos e exemplos para que você construa o melhor ambiente para suas necessidades. 😊 \n",
            "\n",
            "Esperando prompt:Estou utilizando o Colab do google, para criar o chat em Python.\n",
            "Legal! Usar o Google Colab com Python é uma ótima escolha para criar seu chatbot.  É uma plataforma acessível e poderosa para projetos de aprendizado de máquina. \n",
            "\n",
            "Para te ajudar a criar um ambiente para mim no Colab, vamos precisar seguir alguns passos:\n",
            "\n",
            "**1. Escolha da biblioteca:**\n",
            "\n",
            "* **Transformers (Hugging Face):**  Permite usar modelos de linguagem de última geração pré-treinados, como o GPT-2, GPT-3, BERT, etc. É ideal para construir chatbots sofisticados com pouco código.\n",
            "* **ChatterBot:** Uma biblioteca dedicada à criação de chatbots, mais simples que a Transformers, com foco em conversação. Ideal para iniciantes.\n",
            "* **Rasa:** Framework completo para chatbots e assistentes virtuais. Permite criar fluxos de conversa complexos e integrar com outros sistemas. É mais avançado. \n",
            "\n",
            "**2. Configuração do ambiente:**\n",
            "\n",
            "No seu notebook do Colab, você precisará instalar as bibliotecas necessárias. Por exemplo, se escolher a Transformers:\n",
            "\n",
            "```python\n",
            "!pip install transformers\n",
            "```\n",
            "\n",
            "**3. Carregando o modelo de linguagem:**\n",
            "\n",
            "Você pode usar um modelo pré-treinado:\n",
            "\n",
            "```python\n",
            "from transformers import AutoModelForCausalLM, AutoTokenizer\n",
            "\n",
            "modelo_nome = \"gpt2\" # ou outro modelo da sua escolha\n",
            "tokenizer = AutoTokenizer.from_pretrained(modelo_nome)\n",
            "modelo = AutoModelForCausalLM.from_pretrained(modelo_nome)\n",
            "```\n",
            "\n",
            "**4. Criando a função de chatbot:**\n",
            "\n",
            "Essa função receberá a entrada do usuário, processará com o modelo e retornará a resposta:\n",
            "\n",
            "```python\n",
            "def chatbot(texto_usuario):\n",
            "  entrada = tokenizer(texto_usuario, return_tensors=\"pt\")\n",
            "  saida = modelo.generate(**entrada)\n",
            "  resposta = tokenizer.decode(saida[0], skip_special_tokens=True)\n",
            "  return resposta\n",
            "```\n",
            "\n",
            "**5. Loop de conversa:**\n",
            "\n",
            "Crie um loop que recebe a entrada do usuário, chama a função do chatbot e exibe a resposta:\n",
            "\n",
            "```python\n",
            "while True:\n",
            "  texto_usuario = input(\"Você: \")\n",
            "  if texto_usuario.lower() == \"sair\":\n",
            "    break\n",
            "  resposta = chatbot(texto_usuario)\n",
            "  print(\"Chatbot:\", resposta)\n",
            "```\n",
            "\n",
            "**Considerações:**\n",
            "\n",
            "* **Recursos do Colab:** Lembre-se que o Colab tem limites de tempo de execução e recursos de hardware. Para projetos maiores, considere usar o Google Cloud Platform.\n",
            "* **Treinamento e personalização:** O código acima usa um modelo pré-treinado. Para um chatbot mais personalizado, você precisará treinar com seus próprios dados.\n",
            "\n",
            "Com este guia básico, você pode começar a construir seu chatbot no Colab. Posso te ajudar com códigos mais específicos, dicas de personalização e outras funcionalidades. \n",
            "\n",
            "Me diga, qual biblioteca você gostaria de usar para o seu chatbot? 😉 \n",
            "\n"
          ]
        },
        {
          "output_type": "error",
          "ename": "KeyboardInterrupt",
          "evalue": "Interrupted by user",
          "traceback": [
            "\u001b[0;31m---------------------------------------------------------------------------\u001b[0m",
            "\u001b[0;31mKeyboardInterrupt\u001b[0m                         Traceback (most recent call last)",
            "\u001b[0;32m<ipython-input-7-46a9ff7b1819>\u001b[0m in \u001b[0;36m<cell line: 5>\u001b[0;34m()\u001b[0m\n\u001b[1;32m      6\u001b[0m   \u001b[0mresponse\u001b[0m \u001b[0;34m=\u001b[0m \u001b[0mchat\u001b[0m\u001b[0;34m.\u001b[0m\u001b[0msend_message\u001b[0m\u001b[0;34m(\u001b[0m\u001b[0mprompt\u001b[0m\u001b[0;34m)\u001b[0m\u001b[0;34m\u001b[0m\u001b[0;34m\u001b[0m\u001b[0m\n\u001b[1;32m      7\u001b[0m   \u001b[0mprint\u001b[0m\u001b[0;34m(\u001b[0m\u001b[0mresponse\u001b[0m\u001b[0;34m.\u001b[0m\u001b[0mtext\u001b[0m\u001b[0;34m)\u001b[0m\u001b[0;34m\u001b[0m\u001b[0;34m\u001b[0m\u001b[0m\n\u001b[0;32m----> 8\u001b[0;31m   \u001b[0mprompt\u001b[0m \u001b[0;34m=\u001b[0m \u001b[0minput\u001b[0m\u001b[0;34m(\u001b[0m\u001b[0;34m\"Esperando prompt:\"\u001b[0m\u001b[0;34m)\u001b[0m\u001b[0;34m\u001b[0m\u001b[0;34m\u001b[0m\u001b[0m\n\u001b[0m\u001b[1;32m      9\u001b[0m \u001b[0;34m\u001b[0m\u001b[0m\n\u001b[1;32m     10\u001b[0m \u001b[0;34m\u001b[0m\u001b[0m\n",
            "\u001b[0;32m/usr/local/lib/python3.10/dist-packages/ipykernel/kernelbase.py\u001b[0m in \u001b[0;36mraw_input\u001b[0;34m(self, prompt)\u001b[0m\n\u001b[1;32m    849\u001b[0m                 \u001b[0;34m\"raw_input was called, but this frontend does not support input requests.\"\u001b[0m\u001b[0;34m\u001b[0m\u001b[0;34m\u001b[0m\u001b[0m\n\u001b[1;32m    850\u001b[0m             )\n\u001b[0;32m--> 851\u001b[0;31m         return self._input_request(str(prompt),\n\u001b[0m\u001b[1;32m    852\u001b[0m             \u001b[0mself\u001b[0m\u001b[0;34m.\u001b[0m\u001b[0m_parent_ident\u001b[0m\u001b[0;34m,\u001b[0m\u001b[0;34m\u001b[0m\u001b[0;34m\u001b[0m\u001b[0m\n\u001b[1;32m    853\u001b[0m             \u001b[0mself\u001b[0m\u001b[0;34m.\u001b[0m\u001b[0m_parent_header\u001b[0m\u001b[0;34m,\u001b[0m\u001b[0;34m\u001b[0m\u001b[0;34m\u001b[0m\u001b[0m\n",
            "\u001b[0;32m/usr/local/lib/python3.10/dist-packages/ipykernel/kernelbase.py\u001b[0m in \u001b[0;36m_input_request\u001b[0;34m(self, prompt, ident, parent, password)\u001b[0m\n\u001b[1;32m    893\u001b[0m             \u001b[0;32mexcept\u001b[0m \u001b[0mKeyboardInterrupt\u001b[0m\u001b[0;34m:\u001b[0m\u001b[0;34m\u001b[0m\u001b[0;34m\u001b[0m\u001b[0m\n\u001b[1;32m    894\u001b[0m                 \u001b[0;31m# re-raise KeyboardInterrupt, to truncate traceback\u001b[0m\u001b[0;34m\u001b[0m\u001b[0;34m\u001b[0m\u001b[0m\n\u001b[0;32m--> 895\u001b[0;31m                 \u001b[0;32mraise\u001b[0m \u001b[0mKeyboardInterrupt\u001b[0m\u001b[0;34m(\u001b[0m\u001b[0;34m\"Interrupted by user\"\u001b[0m\u001b[0;34m)\u001b[0m \u001b[0;32mfrom\u001b[0m \u001b[0;32mNone\u001b[0m\u001b[0;34m\u001b[0m\u001b[0;34m\u001b[0m\u001b[0m\n\u001b[0m\u001b[1;32m    896\u001b[0m             \u001b[0;32mexcept\u001b[0m \u001b[0mException\u001b[0m \u001b[0;32mas\u001b[0m \u001b[0me\u001b[0m\u001b[0;34m:\u001b[0m\u001b[0;34m\u001b[0m\u001b[0;34m\u001b[0m\u001b[0m\n\u001b[1;32m    897\u001b[0m                 \u001b[0mself\u001b[0m\u001b[0;34m.\u001b[0m\u001b[0mlog\u001b[0m\u001b[0;34m.\u001b[0m\u001b[0mwarning\u001b[0m\u001b[0;34m(\u001b[0m\u001b[0;34m\"Invalid Message:\"\u001b[0m\u001b[0;34m,\u001b[0m \u001b[0mexc_info\u001b[0m\u001b[0;34m=\u001b[0m\u001b[0;32mTrue\u001b[0m\u001b[0;34m)\u001b[0m\u001b[0;34m\u001b[0m\u001b[0;34m\u001b[0m\u001b[0m\n",
            "\u001b[0;31mKeyboardInterrupt\u001b[0m: Interrupted by user"
          ]
        }
      ],
      "source": [
        "chat = model.start_chat(history=[])\n",
        "\n",
        "prompt = input(\"Esperando prompt:\")\n",
        "\n",
        "while prompt != \"fim\":\n",
        "  response = chat.send_message(prompt)\n",
        "  print(response.text)\n",
        "  prompt = input(\"Esperando prompt:\")\n",
        "\n",
        "\n"
      ]
    }
  ],
  "metadata": {
    "colab": {
      "provenance": [],
      "authorship_tag": "ABX9TyPIvPuCFoh3DVzGBbTrbWtA",
      "include_colab_link": true
    },
    "kernelspec": {
      "display_name": "Python 3",
      "name": "python3"
    },
    "language_info": {
      "name": "python"
    }
  },
  "nbformat": 4,
  "nbformat_minor": 0
}